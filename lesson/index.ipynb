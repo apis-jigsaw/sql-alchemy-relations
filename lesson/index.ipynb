{
 "cells": [
  {
   "cell_type": "markdown",
   "id": "bfba4006-39b7-4f6e-b7a8-2331ab45305c",
   "metadata": {},
   "source": [
    "# SqlAlchemy Relations"
   ]
  },
  {
   "cell_type": "markdown",
   "id": "8e0c438b-078f-42e9-84bb-ef5f7139714f",
   "metadata": {},
   "source": [
    "### Introduction\n",
    "\n",
    "So far we have seen how to set up sqlalchemy and use it to perform some single table queries.  It turns out that we can also use sqlalchemy to perform some of our relational queries.  \n",
    "\n",
    "Let's get started."
   ]
  },
  {
   "cell_type": "markdown",
   "id": "fd7f3549-95cd-4c53-b7f9-d32ee18e161d",
   "metadata": {},
   "source": [
    "### Loading our Data"
   ]
  },
  {
   "cell_type": "markdown",
   "id": "27125386-608a-4a00-8c3a-70158864659f",
   "metadata": {},
   "source": [
    "Let's begin connecting to postgres, and then creating a database called `moes_bar`.  \n",
    "\n",
    "```sql\n",
    "create database moes_bar;\n",
    "```\n",
    "\n",
    "Then, if you look in the `seed.py` file, you can see how we'll load the data.  \n",
    "\n",
    "We first use sqlalchemy to create a connection to our database."
   ]
  },
  {
   "cell_type": "markdown",
   "id": "478f6819-5d5c-4f67-a336-126c845b9c30",
   "metadata": {},
   "source": [
    "```python\n",
    "from sqlalchemy import create_engine\n",
    "conn_string = 'postgresql://jeffreykatz@localhost/moes_bar'\n",
    "conn = create_engine(conn_string)\n",
    "```"
   ]
  },
  {
   "cell_type": "markdown",
   "id": "7f799a34-f6d9-43cc-9752-c2823274b7be",
   "metadata": {},
   "source": [
    "And then from there, we load a number of csv files in the `data` folder into dataframes."
   ]
  },
  {
   "cell_type": "markdown",
   "id": "16b757ba-1cf8-41cc-bd73-cedf044fbb49",
   "metadata": {},
   "source": [
    "```python\n",
    "root_url = \"./data/\"\n",
    "names = ['bartenders', 'customers', 'drinks', 'orders', 'ingredients', 'ingredients_drinks']\n",
    "loaded_dfs = [pd.read_csv(f'{root_url}{name}.csv') for name in names]\n",
    "```"
   ]
  },
  {
   "cell_type": "markdown",
   "id": "b9d6bfca-52f8-449d-82d7-0f3cf8b987b7",
   "metadata": {},
   "source": [
    "And then we call `to_sql` on each dataframe, while passing through the connection to our postgres database.\n",
    "\n",
    "> The name is the name of the table."
   ]
  },
  {
   "cell_type": "markdown",
   "id": "2fb1be25-5403-4cff-9eff-48bf0f5378bb",
   "metadata": {},
   "source": [
    "```python\n",
    "for df, name in zip(loaded_dfs, names):\n",
    "    df.to_sql(name, conn, if_exists='replace', index = False)\n",
    "```"
   ]
  },
  {
   "cell_type": "markdown",
   "id": "8571f18c-0c69-4c93-a922-23372e2d5173",
   "metadata": {},
   "source": [
    "So run `python3 seed.py`, and then connect to postgres to confirm that the tables are loaded."
   ]
  },
  {
   "cell_type": "markdown",
   "id": "1cd202de-309b-426a-a239-e897cd796781",
   "metadata": {},
   "source": [
    "### Seeing our relations"
   ]
  },
  {
   "cell_type": "markdown",
   "id": "3d23814f-4715-4677-8dfd-c7c591aff0f1",
   "metadata": {},
   "source": [
    "Now let's dive directly into our flask shell."
   ]
  },
  {
   "cell_type": "markdown",
   "id": "6c87b40d-87cb-4f4d-a6eb-0e7a55338730",
   "metadata": {},
   "source": [
    "```bash\n",
    "flask shell\n",
    "```"
   ]
  },
  {
   "cell_type": "markdown",
   "id": "17cc87c5-af98-4814-bd34-0e708ae6eb44",
   "metadata": {},
   "source": [
    "From there, we can get our first order by running the following."
   ]
  },
  {
   "cell_type": "markdown",
   "id": "0981db72-562e-4461-b649-e395f103c0c5",
   "metadata": {},
   "source": [
    "```bash\n",
    ">>> order = db.session.query(Order).first()\n",
    ">>> order\n",
    "<Order id: 1, customer_id: 1, drink_id: 1, bartender_id: 1>\n",
    "```"
   ]
  },
  {
   "cell_type": "markdown",
   "id": "e12f2d0d-35a0-4907-8f5c-fc0f031aed81",
   "metadata": {},
   "source": [
    "And we can see that the bartender_id is 1."
   ]
  },
  {
   "cell_type": "markdown",
   "id": "ef6a9ff6-91bf-489a-ba41-804ed3a1273c",
   "metadata": {},
   "source": [
    "Also, notice that in the Order model, we did do things a little differently, by specifying the foreign key with something like the following:"
   ]
  },
  {
   "cell_type": "markdown",
   "id": "67a1c394-ba33-43bc-805d-3a16ca5ae2a0",
   "metadata": {},
   "source": [
    "```python\n",
    "bartender_id = db.Column(db.Integer(), db.ForeignKey('bartenders.id'))\n",
    "```"
   ]
  },
  {
   "cell_type": "markdown",
   "id": "caca9270-ec59-441a-8b3c-e2b96b19fc31",
   "metadata": {},
   "source": [
    "So in the `ForeignKey` instance, we specify the related primary key, here the id on the bartenders table."
   ]
  },
  {
   "cell_type": "markdown",
   "id": "8cdc7958-7212-46bd-81f6-92cb2a780211",
   "metadata": {},
   "source": [
    "Ok, so now we can call something like `first_order.bartender_id`.  However, to call something like `first_order.bartender`, we need to do something a little differently."
   ]
  },
  {
   "cell_type": "markdown",
   "id": "65be763c-99fa-4ecb-bf2d-bc3cca562b59",
   "metadata": {},
   "source": [
    "For this, we need to go to the `has_many` model -- here it's the bartender model that has many orders, so go there."
   ]
  },
  {
   "cell_type": "markdown",
   "id": "537a4319-fae5-4d32-acc5-d10faa5099ab",
   "metadata": {},
   "source": [
    "And you can see that in the bartender model, we have the following lines:"
   ]
  },
  {
   "cell_type": "markdown",
   "id": "11c7653b-354d-435c-bbc2-cc75fef32f62",
   "metadata": {},
   "source": [
    "```python\n",
    "from sqlalchemy.orm import relationship, backref\n",
    "from app import db\n",
    "\n",
    "class Bartender(db.Model):\n",
    "    ...\n",
    "    orders = relationship('Order', backref=backref('bartender'), cascade='all, delete-orphan')\n",
    "```"
   ]
  },
  {
   "cell_type": "markdown",
   "id": "bbac2203-58c9-48fc-ab86-6c97a8379989",
   "metadata": {},
   "source": [
    "So our relationship method does a few things, but the first thing to see is that we just created a method called orders, that will look find all of the orders of a bartender. "
   ]
  },
  {
   "cell_type": "markdown",
   "id": "d2416bbc-b07f-4dc1-ac48-880e25f8ddf8",
   "metadata": {},
   "source": [
    "Log into the flask shell and run the following:"
   ]
  },
  {
   "cell_type": "markdown",
   "id": "aef9490d-d46f-4307-a48e-650183edcf5f",
   "metadata": {},
   "source": [
    "```python \n",
    ">>> bartender = db.session.query(Bartender).first()\n",
    ">>> bartender.orders\n",
    "```"
   ]
  },
  {
   "cell_type": "markdown",
   "id": "7f95a389-3257-47ff-a65d-97f9db478f5e",
   "metadata": {},
   "source": [
    "Ok not bad."
   ]
  },
  {
   "cell_type": "markdown",
   "id": "54a7ea42-c818-476c-b393-63295b189cf6",
   "metadata": {},
   "source": [
    "And we can see the underlying query by running the following:"
   ]
  },
  {
   "cell_type": "markdown",
   "id": "f075ecbf-a20c-45e2-9aa4-7dbb4dd768a1",
   "metadata": {},
   "source": [
    "```python\n",
    "stmt = db.session.query(Bartender.orders).statement\n",
    "print(stmt)\n",
    "```"
   ]
  },
  {
   "cell_type": "markdown",
   "id": "eb87eda5-5ded-4335-9060-a219595270d9",
   "metadata": {},
   "source": [
    "```sql\n",
    "SELECT bartenders.id = orders.bartender_id AS anon_1\n",
    "FROM bartenders, orders\n",
    "```"
   ]
  },
  {
   "cell_type": "markdown",
   "id": "fa8633b0-a520-4490-a5ea-7aab8269dac6",
   "metadata": {},
   "source": [
    "So it's a little different than we're used to, but it still looks for where the `bartenders.id` equals the `orders.bartender_id`."
   ]
  },
  {
   "cell_type": "markdown",
   "id": "2bf084f5-d7db-4317-b42e-e701f4b6c16f",
   "metadata": {},
   "source": [
    "### Going deeper on the relationship"
   ]
  },
  {
   "cell_type": "markdown",
   "id": "d7734512-41b2-431c-aa0e-9d48c1ca32a5",
   "metadata": {},
   "source": [
    "Ok, so now let's take another look at the `relationship` method."
   ]
  },
  {
   "cell_type": "markdown",
   "id": "5a87b1e1-c70c-4e89-942f-f2a2ec8bcd38",
   "metadata": {},
   "source": [
    "```python\n",
    "orders = relationship('Order', backref=backref('bartender'), cascade='all, delete-orphan')\n",
    "```"
   ]
  },
  {
   "cell_type": "markdown",
   "id": "1f31fb16-c07c-4afb-8a40-0c4b0189a114",
   "metadata": {},
   "source": [
    "The first argument says that the `bartender.orders` is related to the orders model.  \n",
    "\n",
    "That second argument of `backref` indicates to create an `order.bartender` method."
   ]
  },
  {
   "cell_type": "markdown",
   "id": "b70aa366-08d9-4254-84f5-55ff21afb86a",
   "metadata": {},
   "source": [
    "And we can see this by logging into the shell and giving it a shot."
   ]
  },
  {
   "cell_type": "markdown",
   "id": "6ee35a00-995f-4e21-805e-ae37342acab2",
   "metadata": {},
   "source": [
    "```python\n",
    "first_order = db.session.query(Order).first()\n",
    "first_order.bartender\n",
    "# <User 'moe'>\n",
    "```"
   ]
  },
  {
   "cell_type": "markdown",
   "id": "31f64ee8-ce35-48ac-863a-3565acf62591",
   "metadata": {},
   "source": [
    "Ok, so this method of `order.bartender` came from the `backref` argument which indicated to add a bartender method.\n",
    "\n",
    "```python\n",
    "orders = relationship('Order', backref=backref('bartender'), cascade='all, delete-orphan')\n",
    "```"
   ]
  },
  {
   "cell_type": "markdown",
   "id": "e350956c-a0e4-4eec-adb7-e473d64feef6",
   "metadata": {},
   "source": [
    "* One last thing"
   ]
  },
  {
   "cell_type": "markdown",
   "id": "b5c735dd-d6cf-4f15-9f56-ee67eda2aac0",
   "metadata": {},
   "source": [
    "Finally, that last argument of `cascade='all, delete-orphan'` indicates to delete any orphan records.\n",
    "\n",
    "What's an orphan record?  Well let's say that we delete moe from the database.  It would at this point become difficult to make sense of his orders.  That cascade line would automatically delete all of moe's orders."
   ]
  },
  {
   "cell_type": "markdown",
   "id": "8632dc47-e2ad-4adb-b3e4-b532e0a440e8",
   "metadata": {},
   "source": [
    "### Summary"
   ]
  },
  {
   "cell_type": "markdown",
   "id": "00ed8f25-09e3-4c53-958c-e07b1f927202",
   "metadata": {},
   "source": [
    "In this lesson, we saw how to add relationship methods in SQLalchemy.  There are really two steps:"
   ]
  },
  {
   "cell_type": "markdown",
   "id": "33bb41a0-26f8-4f3e-9c15-28ca5971d771",
   "metadata": {},
   "source": [
    "1.  Add the foreign id column on the join table\n",
    "\n",
    "```python\n",
    "class Order:\n",
    "    bartender_id = db.Column(db.Integer(), db.ForeignKey('bartenders.id'))\n",
    "```"
   ]
  },
  {
   "cell_type": "markdown",
   "id": "31120543-dffa-4809-8e0a-647ea380a71e",
   "metadata": {},
   "source": [
    "2. Then add the relationship method on the has many table"
   ]
  },
  {
   "cell_type": "markdown",
   "id": "9ece41ab-2d55-4311-87ad-6e7791d7a26a",
   "metadata": {},
   "source": [
    "```python\n",
    "from sqlalchemy.orm import relationship, backref\n",
    "from app import db\n",
    "\n",
    "class Bartender(db.Model):\n",
    "    ...\n",
    "    orders = relationship('Order', backref=backref('bartender'), cascade='all, delete-orphan')\n",
    "```"
   ]
  },
  {
   "cell_type": "markdown",
   "id": "59bd6378-9d27-40ad-9a93-bd9467899f29",
   "metadata": {},
   "source": [
    "From there, you will be able to call `bartender.orders` and `order.bartender`."
   ]
  }
 ],
 "metadata": {
  "kernelspec": {
   "display_name": "Python 3 (ipykernel)",
   "language": "python",
   "name": "python3"
  },
  "language_info": {
   "codemirror_mode": {
    "name": "ipython",
    "version": 3
   },
   "file_extension": ".py",
   "mimetype": "text/x-python",
   "name": "python",
   "nbconvert_exporter": "python",
   "pygments_lexer": "ipython3",
   "version": "3.9.12"
  }
 },
 "nbformat": 4,
 "nbformat_minor": 5
}
